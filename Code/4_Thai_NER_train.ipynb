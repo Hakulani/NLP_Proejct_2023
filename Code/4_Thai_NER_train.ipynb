{
  "cells": [
    {
      "cell_type": "markdown",
      "source": [
        "READ ME\n",
        "---\n",
        "**Training Dataset:** datatrain.data (6000+sentences) \n",
        "\n",
        "--> pick small subset of data in **Manage Data section**\n",
        "\n",
        "```\n",
        "# for i in datatofile[:100]:\n",
        "\n",
        "```\n",
        "---\n",
        "Can run all 👍🏼\n"
      ],
      "metadata": {
        "id": "ClFEhQa4oyTk"
      }
    },
    {
      "cell_type": "markdown",
      "metadata": {
        "id": "zNFhia5hbLS2"
      },
      "source": [
        "# ThaiNER (Bi-LSTM CRF)\n",
        "\n",
        "using pytorch\n",
        "\n",
        "from https://github.com/ekapolc/nlp_course/blob/master/PyTorchDemo/pytorch_tute_lstm.ipynb and https://pytorch.org/tutorials/beginner/nlp/advanced_tutorial.html"
      ]
    },
    {
      "cell_type": "markdown",
      "metadata": {
        "id": "PFgwz0HsbLS4"
      },
      "source": [
        "By Mr.Wannaphong Phatthiyaphaibun\n",
        "\n",
        "Bachelor of Science Program in Computer and Information Science, Nong Khai Campus, Khon Kaen University\n",
        "\n",
        "https://iam.wannaphong.com/\n",
        "\n",
        "E-mail : wannaphong@kkumail.com"
      ]
    },
    {
      "cell_type": "markdown",
      "metadata": {
        "id": "SKbrI2qUbLS4"
      },
      "source": [
        "Thank you Faculty of Applied Science and Engineering, Nong Khai Campus, Khon Kaen University for server."
      ]
    },
    {
      "cell_type": "markdown",
      "source": [
        "# **Implement A Named Entity Recognizer (Bi-LSTM + CRF)**\n",
        "\n",
        "\n",
        "a) Implement according to https://aclanthology.org/N16-1030/, using a dataset from\n",
        "https://nlpforthai.com/tasks/ner/ (a very small subset is sufficient for demonstration)\n",
        "\n",
        "\n",
        "\n",
        "b) You can put together the model from code available in any package\n"
      ],
      "metadata": {
        "id": "izTmAHaVcA0b"
      }
    },
    {
      "cell_type": "markdown",
      "metadata": {
        "id": "7gkl60O_bLS5"
      },
      "source": [
        "## Load Data"
      ]
    },
    {
      "cell_type": "code",
      "source": [
        "!pip install dill"
      ],
      "metadata": {
        "colab": {
          "base_uri": "https://localhost:8080/"
        },
        "id": "GA3Lbj2Eb5ge",
        "outputId": "10f6baf8-d54f-402b-ddd4-27393708c5a9"
      },
      "execution_count": 1,
      "outputs": [
        {
          "output_type": "stream",
          "name": "stdout",
          "text": [
            "Looking in indexes: https://pypi.org/simple, https://us-python.pkg.dev/colab-wheels/public/simple/\n",
            "Requirement already satisfied: dill in /usr/local/lib/python3.10/dist-packages (0.3.6)\n"
          ]
        }
      ]
    },
    {
      "cell_type": "code",
      "source": [
        "from google.colab import drive\n",
        "drive.mount('/content/drive')"
      ],
      "metadata": {
        "colab": {
          "base_uri": "https://localhost:8080/"
        },
        "id": "wdSxQj8Qs_K3",
        "outputId": "354999b6-55a8-4eab-adfa-38ca17f02623"
      },
      "execution_count": 2,
      "outputs": [
        {
          "output_type": "stream",
          "name": "stdout",
          "text": [
            "Drive already mounted at /content/drive; to attempt to forcibly remount, call drive.mount(\"/content/drive\", force_remount=True).\n"
          ]
        }
      ]
    },
    {
      "cell_type": "code",
      "execution_count": 3,
      "metadata": {
        "id": "u-pLfV6atzGT"
      },
      "outputs": [],
      "source": [
        "import dill\n",
        "with open('/content/drive/MyDrive/NLP/datatrain.data', 'rb') as file:\n",
        "\n",
        " datatofile = dill.load(file)"
      ]
    },
    {
      "cell_type": "code",
      "source": [
        "# tagged_sents = []\n",
        "# for i in datatofile:\n",
        "#     text_inside = []\n",
        "#     for j in i:\n",
        "#         text_inside.append((j[0],j[2]))\n",
        "#     tagged_sents.append(text_inside)\n",
        "# train_sents, test_sents= train_test_split(tagged_sents, test_size=0.2, random_state=112)"
      ],
      "metadata": {
        "id": "YI1TuRr_bFuF"
      },
      "execution_count": 4,
      "outputs": []
    },
    {
      "cell_type": "code",
      "execution_count": 5,
      "metadata": {
        "id": "R9gD3Y9ZbLS5"
      },
      "outputs": [],
      "source": [
        "# import dill\n",
        "# with open('datatrain.data', 'rb') as file:\n",
        "#  datatofile = dill.load(file)"
      ]
    },
    {
      "cell_type": "code",
      "execution_count": 6,
      "metadata": {
        "colab": {
          "base_uri": "https://localhost:8080/"
        },
        "id": "GDSTcWRXbLS6",
        "outputId": "75af35ab-8a7a-4615-fad9-3ac873cef322"
      },
      "outputs": [
        {
          "output_type": "execute_result",
          "data": {
            "text/plain": [
              "[('สงสัย', 'NCMN', 'O'),\n",
              " ('ติด', 'VACT', 'O'),\n",
              " ('หวัด', 'NCMN', 'O'),\n",
              " ('นก', 'DDAC', 'O'),\n",
              " (' ', 'NCMN', 'O'),\n",
              " ('อีก', 'DDBQ', 'O'),\n",
              " ('คน', 'NCMN', 'O'),\n",
              " ('ยัง', 'XVBM', 'O'),\n",
              " ('น่า', 'VSTA', 'O'),\n",
              " ('ห่วง', 'NCMN', 'O')]"
            ]
          },
          "metadata": {},
          "execution_count": 6
        }
      ],
      "source": [
        "datatofile[1]"
      ]
    },
    {
      "cell_type": "code",
      "source": [
        "len(datatofile)"
      ],
      "metadata": {
        "id": "pdfkFM9IpkYl",
        "colab": {
          "base_uri": "https://localhost:8080/"
        },
        "outputId": "9b7e5f41-5850-49a3-bed2-6921b4023493"
      },
      "execution_count": 7,
      "outputs": [
        {
          "output_type": "execute_result",
          "data": {
            "text/plain": [
              "6148"
            ]
          },
          "metadata": {},
          "execution_count": 7
        }
      ]
    },
    {
      "cell_type": "markdown",
      "source": [
        "## Import Libraries"
      ],
      "metadata": {
        "id": "Kyj64Rggg3oJ"
      }
    },
    {
      "cell_type": "code",
      "execution_count": 8,
      "metadata": {
        "colab": {
          "base_uri": "https://localhost:8080/"
        },
        "id": "WgvgKxPhbLS7",
        "outputId": "03ddda45-d18e-4414-cf32-524673c35572"
      },
      "outputs": [
        {
          "output_type": "stream",
          "name": "stdout",
          "text": [
            "2.0.1+cu118\n"
          ]
        }
      ],
      "source": [
        "%matplotlib inline\n",
        "%config InlineBackend.figure_format = 'retina'\n",
        "import matplotlib.pyplot as plt\n",
        "from itertools import chain\n",
        "from sklearn.metrics import classification_report, confusion_matrix\n",
        "from sklearn.preprocessing import LabelBinarizer\n",
        "\n",
        "import sklearn\n",
        "from sklearn.model_selection import cross_validate,train_test_split\n",
        "import torch.nn.functional as F\n",
        "from torch.autograd import Variable\n",
        "from tqdm import tqdm\n",
        "\n",
        "import torch\n",
        "import torch.autograd as autograd\n",
        "import torch.nn as nn\n",
        "import torch.optim as optim\n",
        "\n",
        "print(torch.__version__)"
      ]
    },
    {
      "cell_type": "markdown",
      "source": [
        "Prepare for GPU else CPU"
      ],
      "metadata": {
        "id": "L2n121-EgCiS"
      }
    },
    {
      "cell_type": "code",
      "execution_count": 9,
      "metadata": {
        "id": "duh5RKo4bLS7"
      },
      "outputs": [],
      "source": [
        "USE_CUDA = torch.cuda.is_available()\n",
        "device = torch.device(\"cuda:0\" if torch.cuda.is_available() else \"cpu\")\n",
        "\n",
        "#torch.backends.cudnn.benchmark=torch.cuda.is_available()\n",
        "\n",
        "FloatTensor = torch.cuda.FloatTensor if USE_CUDA else torch.FloatTensor\n",
        "LongTensor = torch.long\n",
        "ByteTensor = torch.cuda.ByteTensor if USE_CUDA else torch.ByteTensor"
      ]
    },
    {
      "cell_type": "code",
      "source": [
        "USE_CUDA"
      ],
      "metadata": {
        "colab": {
          "base_uri": "https://localhost:8080/"
        },
        "id": "ydQNlBx6ch3-",
        "outputId": "89764ffa-e42c-4a6f-f7d8-7315ee798f57"
      },
      "execution_count": 10,
      "outputs": [
        {
          "output_type": "execute_result",
          "data": {
            "text/plain": [
              "False"
            ]
          },
          "metadata": {},
          "execution_count": 10
        }
      ]
    },
    {
      "cell_type": "markdown",
      "source": [
        "## Manage Data"
      ],
      "metadata": {
        "id": "tlSK5QRdhBS4"
      }
    },
    {
      "cell_type": "markdown",
      "source": [
        "Get list of word_ner = [[word],[ner]]\n",
        "* data[0] = word\n",
        "* data[1] = POS\n",
        "* data[2] = NER"
      ],
      "metadata": {
        "id": "Gwqx0Moogccg"
      }
    },
    {
      "cell_type": "code",
      "source": [
        "# Pick a small subset to train\n",
        "word_ner=[]\n",
        "for i in datatofile[:1000]:\n",
        "    t1=[]\n",
        "    t2=[]\n",
        "    for j in i:\n",
        "        t1.append(j[0])\n",
        "        t2.append(j[2])\n",
        "    word_ner.append((t1,t2))"
      ],
      "metadata": {
        "id": "yvlYNksbpepi"
      },
      "execution_count": 11,
      "outputs": []
    },
    {
      "cell_type": "code",
      "execution_count": 12,
      "metadata": {
        "id": "b5w_3l4EbLS8"
      },
      "outputs": [],
      "source": []
    },
    {
      "cell_type": "code",
      "execution_count": 13,
      "metadata": {
        "id": "i55MbUuhbLS9"
      },
      "outputs": [],
      "source": [
        "tagged_sents = word_ner"
      ]
    },
    {
      "cell_type": "markdown",
      "source": [
        "## Define Function and Model"
      ],
      "metadata": {
        "id": "Uo2rf_L2hdFr"
      }
    },
    {
      "cell_type": "markdown",
      "source": [
        "Function"
      ],
      "metadata": {
        "id": "4ipMIt6Siw1n"
      }
    },
    {
      "cell_type": "code",
      "execution_count": 14,
      "metadata": {
        "id": "UweJ9CD5bLS-"
      },
      "outputs": [],
      "source": [
        "def argmax(vec):\n",
        "    # return the argmax as a python int\n",
        "    _, idx = torch.max(vec, 1)\n",
        "    return idx.item()\n",
        "\n",
        "\n",
        "def prepare_sequence(seq, to_ix):\n",
        "    idxs = [to_ix[w] if w in to_ix else to_ix[\"UNK\"] for w in seq]\n",
        "    return torch.tensor(idxs, dtype=LongTensor, device=device)\n",
        "\n",
        "\n",
        "# Compute log sum exp in a numerically stable way for the forward algorithm\n",
        "def log_sum_exp(vec):\n",
        "    max_score = vec[0, argmax(vec)]\n",
        "    max_score_broadcast = max_score.view(1, -1).expand(1, vec.size()[1])\n",
        "    return max_score + \\\n",
        "        torch.log(torch.sum(torch.exp(vec - max_score_broadcast)))"
      ]
    },
    {
      "cell_type": "markdown",
      "source": [
        "**Model: BiLSTM + CRF**"
      ],
      "metadata": {
        "id": "SGa1qpljiyjH"
      }
    },
    {
      "cell_type": "markdown",
      "source": [
        "![image.png](data:image/png;base64,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)\n",
        "\n",
        "\n"
      ],
      "metadata": {
        "id": "Vkl-GTVDTVup"
      }
    },
    {
      "cell_type": "code",
      "execution_count": 15,
      "metadata": {
        "id": "0EMryM6VbLS-"
      },
      "outputs": [],
      "source": [
        "class BiLSTM_CRF(nn.Module):\n",
        "\n",
        "    def __init__(self, vocab_size, tag_to_ix, embedding_dim, hidden_dim):\n",
        "        super(BiLSTM_CRF, self).__init__()\n",
        "\n",
        "        self.embedding_dim = embedding_dim\n",
        "        self.hidden_dim = hidden_dim\n",
        "\n",
        "        self.vocab_size = vocab_size\n",
        "        self.tag_to_ix = tag_to_ix\n",
        "\n",
        "        self.tagset_size = len(tag_to_ix)\n",
        "\n",
        "        self.dropout = nn.Dropout(0.5)  # Not sure****\n",
        "      \n",
        "        #Word Embedding\n",
        "        self.word_embeds = nn.Embedding(vocab_size, embedding_dim)\n",
        "      \n",
        "        #LSTM Layer (Bidirectional = True)\n",
        "        self.lstm = nn.LSTM(embedding_dim, hidden_dim // 2,\n",
        "                            num_layers=1, bidirectional=True)\n",
        "\n",
        "        # Maps the output of the LSTM into tag space.\n",
        "        self.hidden2tag = nn.Linear(hidden_dim, self.tagset_size)\n",
        "\n",
        "        # Matrix of transition parameters.  Entry i,j is the score of transitioning *to* i *from* j.\n",
        "        # Transition Probability\n",
        "        self.transitions = nn.Parameter(\n",
        "            torch.randn(self.tagset_size, self.tagset_size, device=device))\n",
        "\n",
        "        # These two statements enforce the constraint that we never transfer\n",
        "        # to the start tag and we never transfer from the stop tag\n",
        "\n",
        "        self.transitions.data[tag_to_ix[START_TAG], :] = -10000\n",
        "        self.transitions.data[:, tag_to_ix[STOP_TAG]] = -10000\n",
        "\n",
        "        self.hidden = self.init_hidden()\n",
        "\n",
        "    def init_hidden(self):\n",
        "        return (torch.randn(2, 1, self.hidden_dim // 2,device=device),\n",
        "                torch.randn(2, 1, self.hidden_dim // 2,device=device))\n",
        "\n",
        "    def _forward_alg(self, feats):\n",
        "        # Do the forward algorithm to compute the partition function\n",
        "        init_alphas = torch.full((1, self.tagset_size), -10000., device=device)\n",
        "\n",
        "        # START_TAG has all of the score.\n",
        "        init_alphas[0][self.tag_to_ix[START_TAG]] = 0.\n",
        "\n",
        "        # Wrap in a variable so that we will get automatic backprop\n",
        "        forward_var = init_alphas\n",
        "\n",
        "        # Iterate through the sentence\n",
        "        for feat in feats:\n",
        "            alphas_t = []  # The forward tensors at this timestep\n",
        "\n",
        "            for next_tag in range(self.tagset_size):\n",
        "                # broadcast the emission score: it is the same regardless of the previous tag\n",
        "                # Emission Probaboloty\n",
        "                emit_score = feat[next_tag].view(1, -1).expand(1, self.tagset_size)\n",
        "\n",
        "                # the ith entry of trans_score is the score of transitioning to next_tag from i\n",
        "                trans_score = self.transitions[next_tag].view(1, -1)\n",
        "\n",
        "                # The ith entry of next_tag_var is the value for the edge (i -> next_tag) before we do log-sum-exp\n",
        "                next_tag_var = forward_var + trans_score + emit_score\n",
        "\n",
        "                # The forward variable for this tag is log-sum-exp of all the scores.\n",
        "                alphas_t.append(log_sum_exp(next_tag_var).view(1))\n",
        "            \n",
        "            forward_var = torch.cat(alphas_t).view(1, -1)\n",
        "\n",
        "        terminal_var = forward_var + self.transitions[self.tag_to_ix[STOP_TAG]]\n",
        "        alpha = log_sum_exp(terminal_var)\n",
        "\n",
        "        return alpha\n",
        "\n",
        "    def _get_lstm_features(self, sentence):\n",
        "        self.hidden = self.init_hidden()\n",
        "        embeds = self.word_embeds(sentence).view(len(sentence), 1, -1)\n",
        "        lstm_out, self.hidden = self.lstm(embeds, self.hidden)\n",
        "        lstm_out = lstm_out.view(len(sentence), self.hidden_dim)\n",
        "        lstm_feats = self.hidden2tag(lstm_out)\n",
        "        return lstm_feats\n",
        "\n",
        "    def _score_sentence(self, feats, tags):\n",
        "        # Gives the score of a provided tag sequence\n",
        "        score = torch.zeros(1,device=device)\n",
        "        tags = torch.cat([torch.tensor([self.tag_to_ix[START_TAG]], dtype=LongTensor, device=device), tags])\n",
        "\n",
        "        for i, feat in enumerate(feats):\n",
        "            score = score + \\\n",
        "                    self.transitions[tags[i + 1], tags[i]] + feat[tags[i + 1]]\n",
        "\n",
        "        score = score + self.transitions[self.tag_to_ix[STOP_TAG], tags[-1]]\n",
        "\n",
        "        return score\n",
        "\n",
        "    def _viterbi_decode(self, feats):\n",
        "        backpointers = []\n",
        "\n",
        "        # Initialize the viterbi variables in log space\n",
        "        init_vvars = torch.full((1, self.tagset_size), -10000., device=device)\n",
        "        init_vvars[0][self.tag_to_ix[START_TAG]] = 0\n",
        "\n",
        "        # forward_var at step i holds the viterbi variables for step i-1\n",
        "        forward_var = init_vvars\n",
        "\n",
        "        for feat in feats:\n",
        "            bptrs_t = []  # holds the backpointers for this step\n",
        "            viterbivars_t = []  # holds the viterbi variables for this step\n",
        "\n",
        "            for next_tag in range(self.tagset_size):\n",
        "                # next_tag_var[i] holds the viterbi variable for tag i at the\n",
        "                # previous step, plus the score of transitioning\n",
        "                # from tag i to next_tag.\n",
        "                # We don't include the emission scores here because the max\n",
        "                # does not depend on them (we add them in below)\n",
        "                next_tag_var = forward_var + self.transitions[next_tag]\n",
        "                best_tag_id = argmax(next_tag_var)\n",
        "                bptrs_t.append(best_tag_id)\n",
        "                viterbivars_t.append(next_tag_var[0][best_tag_id].view(1))\n",
        "\n",
        "            # Now add in the emission scores, and assign forward_var to the set\n",
        "            # of viterbi variables we just computed\n",
        "            forward_var = (torch.cat(viterbivars_t) + feat).view(1, -1)\n",
        "            backpointers.append(bptrs_t)\n",
        "\n",
        "        # Transition to STOP_TAG\n",
        "        terminal_var = forward_var + self.transitions[self.tag_to_ix[STOP_TAG]]\n",
        "        best_tag_id = argmax(terminal_var)\n",
        "        path_score = terminal_var[0][best_tag_id]\n",
        "\n",
        "        # Follow the back pointers to decode the best path.\n",
        "        best_path = [best_tag_id]\n",
        "        for bptrs_t in reversed(backpointers):\n",
        "            best_tag_id = bptrs_t[best_tag_id]\n",
        "            best_path.append(best_tag_id)\n",
        "            \n",
        "        # Pop off the start tag (we dont want to return that to the caller)\n",
        "        start = best_path.pop()\n",
        "        assert start == self.tag_to_ix[START_TAG]  # Sanity check\n",
        "        best_path.reverse()\n",
        "        return path_score, best_path\n",
        "\n",
        "    def neg_log_likelihood(self, sentence, tags):\n",
        "        feats = self._get_lstm_features(sentence)\n",
        "        forward_score = self._forward_alg(feats)\n",
        "        gold_score = self._score_sentence(feats, tags)\n",
        "        return forward_score - gold_score\n",
        "\n",
        "    def forward(self, sentence):  # dont confuse this with _forward_alg above.\n",
        "        # Get the emission scores from the BiLSTM\n",
        "        lstm_feats = self._get_lstm_features(sentence)\n",
        "\n",
        "        # Find the best path, given the features.\n",
        "        score, tag_seq = self._viterbi_decode(lstm_feats)\n",
        "        return score, tag_seq"
      ]
    },
    {
      "cell_type": "markdown",
      "source": [
        "---"
      ],
      "metadata": {
        "id": "nUYcZaEGWVeh"
      }
    },
    {
      "cell_type": "code",
      "execution_count": 16,
      "metadata": {
        "id": "5wxso-nSbLS_"
      },
      "outputs": [],
      "source": [
        "START_TAG = \"<START>\"\n",
        "STOP_TAG = \"<STOP>\"\n",
        "EMBEDDING_DIM = 64\n",
        "HIDDEN_DIM = 128"
      ]
    },
    {
      "cell_type": "code",
      "execution_count": 17,
      "metadata": {
        "id": "SBzycnb4bLS_"
      },
      "outputs": [],
      "source": [
        "#split data into train set and test set\n",
        "train_size = int(len(tagged_sents) * 0.8)\n",
        "train_sents = tagged_sents[:train_size]\n",
        "test_sents = tagged_sents[train_size:]"
      ]
    },
    {
      "cell_type": "code",
      "execution_count": 50,
      "metadata": {
        "id": "PnN1J0uVbLTA",
        "colab": {
          "base_uri": "https://localhost:8080/"
        },
        "outputId": "4d1109b0-65c9-4da3-836d-7b0ffb6b8bcb"
      },
      "outputs": [
        {
          "output_type": "execute_result",
          "data": {
            "text/plain": [
              "(['สงสัย', 'ติด', 'หวัด', 'นก', ' ', 'อีก', 'คน', 'ยัง', 'น่า', 'ห่วง'],\n",
              " ['O', 'O', 'O', 'O', 'O', 'O', 'O', 'O', 'O', 'O'])"
            ]
          },
          "metadata": {},
          "execution_count": 50
        }
      ],
      "source": [
        "train_sents[1]"
      ]
    },
    {
      "cell_type": "markdown",
      "metadata": {
        "id": "EjUGFve3bLTA"
      },
      "source": [
        "## Preparing the Data"
      ]
    },
    {
      "cell_type": "code",
      "execution_count": 19,
      "metadata": {
        "id": "JQSOC5QYbLTA"
      },
      "outputs": [],
      "source": [
        "word_list=[]\n",
        "ner_list=[]\n",
        "\n",
        "for sent,tags in train_sents:\n",
        "    for word in sent:\n",
        "        word_list.append(word)\n",
        "    for tag in tags:\n",
        "        ner_list.append(tag)\n",
        "\n",
        "# Word to Index\n",
        "word_list.append(\"UNK\") #Special Token for unknown words\n",
        "ner_list.append(START_TAG)\n",
        "ner_list.append(STOP_TAG)\n",
        "all_words = sorted(set(word_list))\n",
        "all_pos = sorted(set(ner_list))\n",
        "# del word_list, pos_list\n",
        "\n",
        "word_to_ix = dict((c, i) for i, c in enumerate(all_words)) #convert all words to index \n",
        "ner_to_ix = dict((c, i) for i, c in enumerate(all_pos)) #convert all pos to index"
      ]
    },
    {
      "cell_type": "code",
      "execution_count": 20,
      "metadata": {
        "colab": {
          "base_uri": "https://localhost:8080/"
        },
        "id": "aHrKS0_1bLTB",
        "outputId": "aa677200-2812-4584-b435-68bfd057ba7f"
      },
      "outputs": [
        {
          "output_type": "stream",
          "name": "stdout",
          "text": [
            "{'<START>': 0, '<STOP>': 1, 'B-DATE': 2, 'B-LAW': 3, 'B-LEN': 4, 'B-LOCATION': 5, 'B-MONEY': 6, 'B-ORGANIZATION': 7, 'B-PERCENT': 8, 'B-PERSON': 9, 'B-PHONE': 10, 'B-TIME': 11, 'B-URL': 12, 'I-DATE': 13, 'I-LAW': 14, 'I-LEN': 15, 'I-LOCATION': 16, 'I-MONEY': 17, 'I-ORGANIZATION': 18, 'I-PERCENT': 19, 'I-PERSON': 20, 'I-PHONE': 21, 'I-TIME': 22, 'I-URL': 23, 'O': 24}\n"
          ]
        }
      ],
      "source": [
        "print(ner_to_ix) # NER tags"
      ]
    },
    {
      "cell_type": "code",
      "execution_count": 21,
      "metadata": {
        "id": "EOhwNw6ebLTB"
      },
      "outputs": [],
      "source": [
        "ix_to_word = dict((v,k) for k,v in word_to_ix.items()) #convert index to word\n",
        "ix_to_ner = dict((v,k) for k,v in ner_to_ix.items())  #convert index to word"
      ]
    },
    {
      "cell_type": "markdown",
      "metadata": {
        "id": "3zT3joGxbLTB"
      },
      "source": [
        "## Preparing the Data for PyTorch"
      ]
    },
    {
      "cell_type": "code",
      "execution_count": 22,
      "metadata": {
        "colab": {
          "base_uri": "https://localhost:8080/"
        },
        "id": "lhRpivtzbLTC",
        "outputId": "e0786a83-2c11-4d3e-d99b-b30ed2fe3323"
      },
      "outputs": [
        {
          "output_type": "execute_result",
          "data": {
            "text/plain": [
              "BiLSTM_CRF(\n",
              "  (dropout): Dropout(p=0.5, inplace=False)\n",
              "  (word_embeds): Embedding(3873, 64)\n",
              "  (lstm): LSTM(64, 64, bidirectional=True)\n",
              "  (hidden2tag): Linear(in_features=128, out_features=25, bias=True)\n",
              ")"
            ]
          },
          "metadata": {},
          "execution_count": 22
        }
      ],
      "source": [
        "model = BiLSTM_CRF(len(word_to_ix), ner_to_ix, EMBEDDING_DIM, HIDDEN_DIM)\n",
        "model.to(device)"
      ]
    },
    {
      "cell_type": "code",
      "execution_count": 23,
      "metadata": {
        "id": "qujcMHi_bLTC"
      },
      "outputs": [],
      "source": [
        "tag_to_ix = ner_to_ix"
      ]
    },
    {
      "cell_type": "code",
      "execution_count": 24,
      "metadata": {
        "id": "M4O0QyZZbLTC"
      },
      "outputs": [],
      "source": [
        "# optimizer = optim.SGD(model.parameters(), lr=0.01, weight_decay=1e-4)\n",
        "\n",
        "optimizer = optim.SGD(model.parameters(), lr=0.01)\n",
        "\n",
        "# cgn = torch.nn.utils.clip_grad_norm(model.parameters(), max_norm=5)\n",
        "# drp = nn.Dropout(p=0.5)"
      ]
    },
    {
      "cell_type": "code",
      "execution_count": 25,
      "metadata": {
        "id": "u6W60xpxbLTD"
      },
      "outputs": [],
      "source": [
        "# train_sents[5]"
      ]
    },
    {
      "cell_type": "code",
      "execution_count": 26,
      "metadata": {
        "colab": {
          "base_uri": "https://localhost:8080/"
        },
        "id": "JyRqtKpibLTD",
        "outputId": "59ebf831-f92c-4dd7-f2cd-02842632a8a9"
      },
      "outputs": [
        {
          "output_type": "stream",
          "name": "stdout",
          "text": [
            "tensor([2636,  788, 1351, 2220,  832, 3745,  852,    0,  166,    0, 2379, 1580,\n",
            "        1476,    0, 2737, 1351, 3055, 1293,    0,  350,    0,  349,    0, 1189,\n",
            "        1565, 3249, 3426, 3171, 2456, 3810, 3320,    0, 3306,  428, 1025, 3726,\n",
            "        1730, 1351,    0,  128,    0,  821, 1207, 1321, 3726, 2648, 1351, 2112,\n",
            "         594,    0, 3595,  859, 2194, 2538,  503,  842, 2784, 1833,    0, 3326,\n",
            "         491, 1351, 2110])\n",
            "(tensor(140.1153), [13, 24, 7, 22, 23, 16, 23, 16, 23, 16, 23, 16, 23, 16, 23, 16, 23, 16, 23, 16, 23, 12, 24, 7, 22, 23, 16, 23, 16, 23, 16, 23, 16, 23, 16, 23, 16, 23, 16, 23, 16, 23, 16, 23, 16, 23, 16, 23, 16, 23, 16, 23, 16, 23, 16, 23, 16, 23, 16, 23, 12, 24, 7])\n"
          ]
        }
      ],
      "source": [
        "with torch.no_grad():\n",
        "    precheck_sent = prepare_sequence(train_sents[5][0], word_to_ix)\n",
        "    precheck_tags = torch.tensor([tag_to_ix[t] for t in train_sents[0][1]], dtype=LongTensor, device=device)\n",
        "    print(precheck_sent)\n",
        "    print(model(precheck_sent))"
      ]
    },
    {
      "cell_type": "markdown",
      "source": [
        "Train Function"
      ],
      "metadata": {
        "id": "_uUoFvRCXTCn"
      }
    },
    {
      "cell_type": "code",
      "execution_count": 27,
      "metadata": {
        "id": "Di9nvWj3bLTD"
      },
      "outputs": [],
      "source": [
        "def train(sentence, tags,train=True):\n",
        "    if train:\n",
        "        model.train(True)\n",
        "    else:\n",
        "        model.eval()\n",
        "\n",
        "    model.zero_grad()\n",
        "    sentence_in = prepare_sequence(sentence, word_to_ix)\n",
        "    targets = torch.tensor([tag_to_ix[t] for t in tags], dtype=LongTensor, device=device)\n",
        "    loss = model.neg_log_likelihood(sentence_in, targets)\n",
        "    \n",
        "    if train:\n",
        "        loss.backward()   # backprop\n",
        "        optimizer.step()  # update parameters\n",
        "        # cgn.step()\n",
        "    return loss.item()"
      ]
    },
    {
      "cell_type": "markdown",
      "source": [
        "Set n_iters"
      ],
      "metadata": {
        "id": "dY0Xl4fGplVU"
      }
    },
    {
      "cell_type": "code",
      "execution_count": 30,
      "metadata": {
        "colab": {
          "base_uri": "https://localhost:8080/"
        },
        "id": "lfg3NB4EbLTD",
        "outputId": "353dac4b-d6a1-4eff-aee4-3673dca2c1bf"
      },
      "outputs": [
        {
          "output_type": "stream",
          "name": "stderr",
          "text": [
            "100%|██████████| 800/800 [03:53<00:00,  3.43it/s]\n",
            "100%|██████████| 800/800 [01:54<00:00,  6.98it/s]\n"
          ]
        },
        {
          "output_type": "stream",
          "name": "stdout",
          "text": [
            "ep:1 1000.000000% (5m 47s) loss 0.4915 \n",
            "val loss 0.4006\n"
          ]
        },
        {
          "output_type": "stream",
          "name": "stderr",
          "text": [
            "100%|██████████| 800/800 [04:00<00:00,  3.33it/s]\n",
            "100%|██████████| 800/800 [01:54<00:00,  6.98it/s]\n"
          ]
        },
        {
          "output_type": "stream",
          "name": "stdout",
          "text": [
            "ep:2 2000.000000% (11m 42s) loss 0.3987 \n",
            "val loss 0.3323\n"
          ]
        },
        {
          "output_type": "stream",
          "name": "stderr",
          "text": [
            "100%|██████████| 800/800 [03:56<00:00,  3.38it/s]\n",
            "100%|██████████| 800/800 [01:55<00:00,  6.95it/s]\n"
          ]
        },
        {
          "output_type": "stream",
          "name": "stdout",
          "text": [
            "ep:3 3000.000000% (17m 34s) loss 0.3264 \n",
            "val loss 0.2726\n"
          ]
        },
        {
          "output_type": "stream",
          "name": "stderr",
          "text": [
            "100%|██████████| 800/800 [03:56<00:00,  3.38it/s]\n",
            "100%|██████████| 800/800 [01:54<00:00,  6.98it/s]\n"
          ]
        },
        {
          "output_type": "stream",
          "name": "stdout",
          "text": [
            "ep:4 4000.000000% (23m 25s) loss 0.2323 \n",
            "val loss 0.2080\n"
          ]
        },
        {
          "output_type": "stream",
          "name": "stderr",
          "text": [
            "100%|██████████| 800/800 [03:56<00:00,  3.38it/s]\n",
            "100%|██████████| 800/800 [01:57<00:00,  6.82it/s]\n"
          ]
        },
        {
          "output_type": "stream",
          "name": "stdout",
          "text": [
            "ep:5 5000.000000% (29m 19s) loss 0.2045 \n",
            "val loss 0.1747\n"
          ]
        },
        {
          "output_type": "stream",
          "name": "stderr",
          "text": [
            "100%|██████████| 800/800 [04:00<00:00,  3.33it/s]\n",
            "100%|██████████| 800/800 [01:56<00:00,  6.84it/s]\n"
          ]
        },
        {
          "output_type": "stream",
          "name": "stdout",
          "text": [
            "ep:6 6000.000000% (35m 16s) loss 0.1603 \n",
            "val loss 0.1532\n"
          ]
        },
        {
          "output_type": "stream",
          "name": "stderr",
          "text": [
            "100%|██████████| 800/800 [03:57<00:00,  3.36it/s]\n",
            "100%|██████████| 800/800 [01:55<00:00,  6.94it/s]\n"
          ]
        },
        {
          "output_type": "stream",
          "name": "stdout",
          "text": [
            "ep:7 7000.000000% (41m 10s) loss 0.1484 \n",
            "val loss 0.1348\n"
          ]
        },
        {
          "output_type": "stream",
          "name": "stderr",
          "text": [
            "100%|██████████| 800/800 [03:56<00:00,  3.38it/s]\n",
            "100%|██████████| 800/800 [01:54<00:00,  6.97it/s]\n"
          ]
        },
        {
          "output_type": "stream",
          "name": "stdout",
          "text": [
            "ep:8 8000.000000% (47m 1s) loss 0.1266 \n",
            "val loss 0.1273\n"
          ]
        },
        {
          "output_type": "stream",
          "name": "stderr",
          "text": [
            "100%|██████████| 800/800 [03:57<00:00,  3.37it/s]\n",
            "100%|██████████| 800/800 [01:55<00:00,  6.95it/s]\n"
          ]
        },
        {
          "output_type": "stream",
          "name": "stdout",
          "text": [
            "ep:9 9000.000000% (52m 53s) loss 0.1189 \n",
            "val loss 0.1124\n"
          ]
        },
        {
          "output_type": "stream",
          "name": "stderr",
          "text": [
            "100%|██████████| 800/800 [03:56<00:00,  3.39it/s]\n",
            "100%|██████████| 800/800 [01:54<00:00,  6.98it/s]"
          ]
        },
        {
          "output_type": "stream",
          "name": "stdout",
          "text": [
            "ep:10 10000.000000% (58m 44s) loss 0.1160 \n",
            "val loss 0.1152\n"
          ]
        },
        {
          "output_type": "stream",
          "name": "stderr",
          "text": [
            "\n"
          ]
        }
      ],
      "source": [
        "import time\n",
        "import math\n",
        "\n",
        "n_iters = 10\n",
        "print_every = 1\n",
        "\n",
        "def timeSince(since):\n",
        "    now = time.time()\n",
        "    s = now - since\n",
        "    m = math.floor(s / 60)\n",
        "    s -= m * 60\n",
        "    return '%dm %ds' % (m, s)\n",
        "\n",
        "start = time.time()\n",
        "train_losses=[]\n",
        "val_losses=[]\n",
        "\n",
        "for iter in range(1, n_iters + 1):#Epoch\n",
        "    loader = tqdm(train_sents, total=len(train_sents))\n",
        "\n",
        "    for sentence, ner_tags in loader: #Sentence\n",
        "        loss = train(sentence, ner_tags) #fwd\n",
        "    loader = tqdm(train_sents, total=len(train_sents))\n",
        "\n",
        "    for sentence, ner_tags in loader: #Sentence\n",
        "        val_loss = train(sentence, ner_tags,train=False) #fwd\n",
        "    \n",
        "    # Print iter number,time, loss\n",
        "    if iter % print_every == 0:\n",
        "        # print('ep %d %d%% (%s) loss %.4f ' % (iter, iter / n_iters * 100, timeSince(start), loss))\n",
        "        # print('val loss %.4f ' % (val_loss))\n",
        "        print(f'ep:{iter} {iter / n_iters * 100:%} ({timeSince(start)}) loss {loss:.4f} ')\n",
        "        print(f'val loss {val_loss:.4f}')\n",
        "        \n",
        "        train_losses.append(loss)\n",
        "        val_losses.append(val_loss)\n",
        "        torch.save(model.state_dict(), \"ner-2.pt.ep\"+str(iter))"
      ]
    },
    {
      "cell_type": "code",
      "execution_count": 31,
      "metadata": {
        "id": "JGEjmWpibLTD",
        "colab": {
          "base_uri": "https://localhost:8080/",
          "height": 430
        },
        "outputId": "cf84d697-ae6c-4605-c165-61012ea4502b"
      },
      "outputs": [
        {
          "output_type": "display_data",
          "data": {
            "text/plain": [
              "<Figure size 640x480 with 1 Axes>"
            ],
            "image/png": "[encoded data removed]"
          },
          "metadata": {
            "image/png": {
              "width": 556,
              "height": 413
            }
          }
        }
      ],
      "source": [
        "plt.plot(train_losses, label='Training loss')\n",
        "plt.plot(val_losses, label='Validation loss')\n",
        "plt.legend(frameon=False)\n",
        "plt.show()"
      ]
    },
    {
      "cell_type": "code",
      "execution_count": 32,
      "metadata": {
        "id": "gCqpF5AmbLTD",
        "colab": {
          "base_uri": "https://localhost:8080/"
        },
        "outputId": "ff9c532b-ae7f-4047-fe18-ff89573d561c"
      },
      "outputs": [
        {
          "output_type": "stream",
          "name": "stdout",
          "text": [
            "tensor([2636,  788, 1351, 2220,  832, 3745,  852,    0,  166,    0, 2379, 1580,\n",
            "        1476,    0, 2737, 1351, 3055, 1293,    0,  350,    0,  349,    0, 1189,\n",
            "        1565, 3249, 3426, 3171, 2456, 3810, 3320,    0, 3306,  428, 1025, 3726,\n",
            "        1730, 1351,    0,  128,    0,  821, 1207, 1321, 3726, 2648, 1351, 2112,\n",
            "         594,    0, 3595,  859, 2194, 2538,  503,  842, 2784, 1833,    0, 3326,\n",
            "         491, 1351, 2110])\n",
            "(tensor(938.8936), [24, 24, 24, 24, 24, 24, 24, 24, 6, 17, 17, 17, 24, 24, 24, 24, 24, 24, 24, 7, 24, 7, 24, 24, 24, 24, 24, 24, 24, 24, 24, 24, 24, 24, 24, 24, 24, 24, 24, 24, 24, 24, 24, 24, 24, 24, 24, 24, 24, 24, 24, 24, 24, 24, 24, 24, 24, 24, 24, 24, 24, 24, 24])\n"
          ]
        }
      ],
      "source": [
        "with torch.no_grad():\n",
        "    precheck_sent = prepare_sequence(train_sents[5][0], word_to_ix)\n",
        "    precheck_tags = torch.tensor([tag_to_ix[t] for t in train_sents[0][1]], dtype=LongTensor, device=device)\n",
        "    print(precheck_sent)\n",
        "    print(model(precheck_sent))"
      ]
    },
    {
      "cell_type": "code",
      "execution_count": 33,
      "metadata": {
        "id": "hHxKd9eBbLTE",
        "colab": {
          "base_uri": "https://localhost:8080/"
        },
        "outputId": "7b5124f3-4ff6-4e9e-92a7-b4f02cb914dd"
      },
      "outputs": [
        {
          "output_type": "stream",
          "name": "stdout",
          "text": [
            "[24, 24, 24, 24, 24, 24, 24, 24, 24, 24]\n",
            "['http', '://', 'www', '.', 'bangkokhealth', '.', 'com', '/', 'healthnews', ' ', '_', ' ', 'htdoc', '/', 'healthnews', ' ', '_', ' ', 'detail', '.', 'asp', '?', 'Number', '=', '10056']\n"
          ]
        }
      ],
      "source": [
        "with torch.no_grad():\n",
        "    print(model(prepare_sequence(test_sents[2][0], word_to_ix))[1])\n",
        "    print(test_sents[1][0])"
      ]
    },
    {
      "cell_type": "code",
      "execution_count": 35,
      "metadata": {
        "id": "JB9JF7fIbLTE"
      },
      "outputs": [],
      "source": [
        "def predict(input_sent):\n",
        "    y_pred=[]\n",
        "    temp=[]\n",
        "    with torch.no_grad():\n",
        "        precheck_sent = prepare_sequence(input_sent, word_to_ix)\n",
        "        output=model(precheck_sent)[1]\n",
        "        y_pred=[ix_to_ner[i] for i in output]\n",
        "    \n",
        "    return y_pred"
      ]
    },
    {
      "cell_type": "code",
      "execution_count": 36,
      "metadata": {
        "id": "fRMTAFaXbLTE",
        "outputId": "9fcbcd3a-f9e6-4a4e-c4c5-9dd03a9d0d5c",
        "colab": {
          "base_uri": "https://localhost:8080/"
        }
      },
      "outputs": [
        {
          "output_type": "stream",
          "name": "stdout",
          "text": [
            "['หนักใจ', 'อาการ', 'เด็ก', 'แฝด', 'ติด', 'หวัด', 'นก', 'ยัง', 'ไม่', 'พ้นขีดอันตราย']\n",
            "['O', 'O', 'O', 'O', 'O', 'O', 'O', 'O', 'O', 'O']\n",
            "['O', 'O', 'O', 'O', 'O', 'O', 'O', 'O', 'O', 'O']\n"
          ]
        }
      ],
      "source": [
        "print(test_sents[2][0])\n",
        "print(predict(test_sents[2][0]))\n",
        "print(test_sents[2][1])"
      ]
    },
    {
      "cell_type": "code",
      "execution_count": 37,
      "metadata": {
        "id": "GHKz0SlGbLTE"
      },
      "outputs": [],
      "source": [
        "# for test_sent,_ in test_sents[:len(test_sents)-2]:\n",
        "#     print(test_sent)"
      ]
    },
    {
      "cell_type": "markdown",
      "source": [
        "Test if there is any unknown word"
      ],
      "metadata": {
        "id": "YqjH_DWfpu49"
      }
    },
    {
      "cell_type": "code",
      "execution_count": 38,
      "metadata": {
        "id": "RrE0W62bbLTE"
      },
      "outputs": [],
      "source": [
        "y_pred = []\n",
        "\n",
        "for test_sent,_ in test_sents:\n",
        "    try:\n",
        "        temp_pred = predict(test_sent)\n",
        "        y_pred.append(temp_pred)\n",
        "    except:\n",
        "        print(test_sent)"
      ]
    },
    {
      "cell_type": "code",
      "execution_count": 39,
      "metadata": {
        "id": "HrNpW96obLTE"
      },
      "outputs": [],
      "source": [
        "test_targets =[ner1 for sent,ner1 in test_sents if sent!=[]]"
      ]
    },
    {
      "cell_type": "code",
      "execution_count": 40,
      "metadata": {
        "id": "rIuw1NmkbLTE"
      },
      "outputs": [],
      "source": [
        "# test_sents[1]"
      ]
    },
    {
      "cell_type": "markdown",
      "source": [
        "## Classification Report"
      ],
      "metadata": {
        "id": "Y1HR4x_5qAvv"
      }
    },
    {
      "cell_type": "code",
      "execution_count": 41,
      "metadata": {
        "id": "IURoOWxybLTF"
      },
      "outputs": [],
      "source": [
        "def ner_classification_report(y_true, y_pred):\n",
        " \n",
        "    lb = LabelBinarizer()\n",
        "    y_true_combined = lb.fit_transform(list(chain.from_iterable(y_true)))\n",
        "    y_pred_combined = lb.transform(list(chain.from_iterable(y_pred)))\n",
        "    tagset = list(sorted(set(lb.classes_)))\n",
        "    print(tagset)\n",
        "    del tagset[len(tagset)-1] # del O\n",
        "    class_indices = {cls: idx for idx, cls in enumerate(lb.classes_)}\n",
        "    \n",
        "    return classification_report(\n",
        "        y_true_combined,\n",
        "        y_pred_combined,\n",
        "        labels = [class_indices[cls] for cls in tagset if cls!=\"O\"],\n",
        "        target_names = tagset,\n",
        "        digits=4\n",
        "    )"
      ]
    },
    {
      "cell_type": "code",
      "execution_count": 42,
      "metadata": {
        "id": "DsQqeVdPbLTF",
        "outputId": "257c9805-fc19-494c-b184-8869a43192d4",
        "colab": {
          "base_uri": "https://localhost:8080/"
        }
      },
      "outputs": [
        {
          "output_type": "stream",
          "name": "stdout",
          "text": [
            "['B-DATE', 'B-LOCATION', 'B-ORGANIZATION', 'B-PERSON', 'B-PHONE', 'B-TIME', 'B-URL', 'I-DATE', 'I-LOCATION', 'I-ORGANIZATION', 'I-PERSON', 'I-PHONE', 'I-TIME', 'I-URL', 'O']\n",
            "                precision    recall  f1-score   support\n",
            "\n",
            "        B-DATE     0.9091    0.8000    0.8511        25\n",
            "    B-LOCATION     0.8235    0.7636    0.7925        55\n",
            "B-ORGANIZATION     0.8442    0.7647    0.8025        85\n",
            "      B-PERSON     0.9306    0.9054    0.9178        74\n",
            "       B-PHONE     0.0000    0.0000    0.0000         1\n",
            "        B-TIME     1.0000    0.4828    0.6512        29\n",
            "         B-URL     1.0000    0.7500    0.8571         4\n",
            "        I-DATE     0.9375    0.7317    0.8219        41\n",
            "    I-LOCATION     0.6512    0.6829    0.6667        41\n",
            "I-ORGANIZATION     0.6562    0.6462    0.6512        65\n",
            "      I-PERSON     0.9252    0.8646    0.8939       229\n",
            "       I-PHONE     0.0000    0.0000    0.0000         4\n",
            "        I-TIME     1.0000    0.4762    0.6452        63\n",
            "         I-URL     1.0000    0.9231    0.9600        78\n",
            "\n",
            "     micro avg     0.8804    0.7695    0.8212       794\n",
            "     macro avg     0.7627    0.6279    0.6794       794\n",
            "  weighted avg     0.8845    0.7695    0.8147       794\n",
            "   samples avg     0.0898    0.0898    0.0898       794\n",
            "\n"
          ]
        },
        {
          "output_type": "stream",
          "name": "stderr",
          "text": [
            "/usr/local/lib/python3.10/dist-packages/sklearn/metrics/_classification.py:1344: UndefinedMetricWarning: Precision and F-score are ill-defined and being set to 0.0 in labels with no predicted samples. Use `zero_division` parameter to control this behavior.\n",
            "  _warn_prf(average, modifier, msg_start, len(result))\n",
            "/usr/local/lib/python3.10/dist-packages/sklearn/metrics/_classification.py:1344: UndefinedMetricWarning: Precision and F-score are ill-defined and being set to 0.0 in samples with no predicted labels. Use `zero_division` parameter to control this behavior.\n",
            "  _warn_prf(average, modifier, msg_start, len(result))\n",
            "/usr/local/lib/python3.10/dist-packages/sklearn/metrics/_classification.py:1344: UndefinedMetricWarning: Recall and F-score are ill-defined and being set to 0.0 in samples with no true labels. Use `zero_division` parameter to control this behavior.\n",
            "  _warn_prf(average, modifier, msg_start, len(result))\n"
          ]
        }
      ],
      "source": [
        "print(ner_classification_report(test_targets,y_pred))"
      ]
    },
    {
      "cell_type": "markdown",
      "source": [
        "## Test"
      ],
      "metadata": {
        "id": "u0CmsWU3qLV4"
      }
    },
    {
      "cell_type": "code",
      "execution_count": 43,
      "metadata": {
        "id": "zyTAbQcIbLTF",
        "outputId": "06be4b39-7a10-4337-cc5d-a007ca991878",
        "colab": {
          "base_uri": "https://localhost:8080/"
        }
      },
      "outputs": [
        {
          "output_type": "execute_result",
          "data": {
            "text/plain": [
              "['O', 'O', 'B-PERSON', 'I-PERSON', 'I-PERSON', 'O', 'O', 'O']"
            ]
          },
          "metadata": {},
          "execution_count": 43
        }
      ],
      "source": [
        "predict([\"ผม\",\"ชื่อ\",\"นาย\",\"บุญ\",\"มาก\",\" \",\"ทอง\",\"ดี\"])"
      ]
    },
    {
      "cell_type": "code",
      "execution_count": 44,
      "metadata": {
        "id": "dUsB2jYQbLTF",
        "outputId": "5df8512e-de51-4f0c-aab5-f3ff6fd35b05",
        "colab": {
          "base_uri": "https://localhost:8080/"
        }
      },
      "outputs": [
        {
          "output_type": "execute_result",
          "data": {
            "text/plain": [
              "['O', 'O', 'O', 'O', 'O', 'O', 'O']"
            ]
          },
          "metadata": {},
          "execution_count": 44
        }
      ],
      "source": [
        "predict([\"ผม\",\"เดิน\",\"ทาง\",\"ไป\",\"เรียน\",\"ที่\",\"บางกะปิ\"])"
      ]
    },
    {
      "cell_type": "code",
      "source": [
        "predict([\"ฉัน\",\"ง่วง\",\"นอน\"])"
      ],
      "metadata": {
        "colab": {
          "base_uri": "https://localhost:8080/"
        },
        "id": "eEJNtBhjzwjY",
        "outputId": "5ae61c97-7697-4b9a-b1ce-f2cb03278a02"
      },
      "execution_count": 45,
      "outputs": [
        {
          "output_type": "execute_result",
          "data": {
            "text/plain": [
              "['O', 'O', 'O']"
            ]
          },
          "metadata": {},
          "execution_count": 45
        }
      ]
    },
    {
      "cell_type": "code",
      "execution_count": 46,
      "metadata": {
        "id": "BZe9_l5ibLTF",
        "outputId": "380b9c7a-d110-4cfc-cd72-d990323a8810",
        "colab": {
          "base_uri": "https://localhost:8080/"
        }
      },
      "outputs": [
        {
          "output_type": "execute_result",
          "data": {
            "text/plain": [
              "3873"
            ]
          },
          "metadata": {},
          "execution_count": 46
        }
      ],
      "source": [
        "len(word_to_ix)"
      ]
    },
    {
      "cell_type": "markdown",
      "source": [
        "# Save Best Model and Word,POS Index to File"
      ],
      "metadata": {
        "id": "AJ2ny9iMp4vP"
      }
    },
    {
      "cell_type": "code",
      "execution_count": 47,
      "metadata": {
        "id": "-xiDxAg5bLTF"
      },
      "outputs": [],
      "source": [
        "# import dill\n",
        "# with open('word_to_ix.pkl', 'wb') as file:\n",
        "#     dill.dump(word_to_ix, file)"
      ]
    },
    {
      "cell_type": "code",
      "execution_count": 48,
      "metadata": {
        "id": "4xZdD2iGbLTF"
      },
      "outputs": [],
      "source": [
        "# with open('pos_to_ix.pkl', 'wb') as file:\n",
        "#     dill.dump(pos_to_ix, file)"
      ]
    },
    {
      "cell_type": "code",
      "execution_count": 49,
      "metadata": {
        "id": "P7sEtOsEbLTG"
      },
      "outputs": [],
      "source": [
        "# torch.save(model.state_dict(), \"thainer.model\")"
      ]
    }
  ],
  "metadata": {
    "kernelspec": {
      "display_name": "Python 3",
      "language": "python",
      "name": "python3"
    },
    "language_info": {
      "codemirror_mode": {
        "name": "ipython",
        "version": 3
      },
      "file_extension": ".py",
      "mimetype": "text/x-python",
      "name": "python",
      "nbconvert_exporter": "python",
      "pygments_lexer": "ipython3",
      "version": "3.6.7"
    },
    "colab": {
      "provenance": [],
      "collapsed_sections": [
        "zNFhia5hbLS2"
      ]
    }
  },
  "nbformat": 4,
  "nbformat_minor": 0
}